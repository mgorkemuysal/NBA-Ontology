{
 "cells": [
  {
   "cell_type": "code",
   "execution_count": 1,
   "metadata": {},
   "outputs": [
    {
     "data": {
      "text/plain": [
       "<Graph identifier=N237ca44888a3472f91224dbb5b2281f5 (<class 'rdflib.graph.Graph'>)>"
      ]
     },
     "execution_count": 1,
     "metadata": {},
     "output_type": "execute_result"
    }
   ],
   "source": [
    "import rdflib\n",
    "g = rdflib.Graph()\n",
    "g.parse('./nba_ontology.owl')"
   ]
  },
  {
   "cell_type": "code",
   "execution_count": 2,
   "metadata": {},
   "outputs": [
    {
     "name": "stdout",
     "output_type": "stream",
     "text": [
      "(rdflib.term.URIRef('http://www.w3.org/1999/02/22-rdf-syntax-ns#type'), rdflib.term.BNode('Nfaa3b65564434bbeb4af54783344e74d')) \n",
      "\n",
      "(rdflib.term.URIRef('http://www.semanticweb.org/toshıba/ontologies/2020/0/nba_ontology#Salary'), rdflib.term.Literal('6534829', datatype=rdflib.term.URIRef('http://www.w3.org/2001/XMLSchema#nonNegativeInteger'))) \n",
      "\n",
      "(rdflib.term.URIRef('http://www.semanticweb.org/toshıba/ontologies/2020/0/nba_ontology#PlayerChampionships'), rdflib.term.Literal('0', datatype=rdflib.term.URIRef('http://www.w3.org/2001/XMLSchema#nonNegativeInteger'))) \n",
      "\n",
      "(rdflib.term.URIRef('http://www.semanticweb.org/toshıba/ontologies/2020/0/nba_ontology#FreeThrowPercentage'), rdflib.term.Literal('67.4', datatype=rdflib.term.URIRef('http://www.w3.org/2001/XMLSchema#float'))) \n",
      "\n",
      "(rdflib.term.URIRef('http://www.semanticweb.org/toshıba/ontologies/2020/0/nba_ontology#StealPercentage'), rdflib.term.Literal('0.8', datatype=rdflib.term.URIRef('http://www.w3.org/2001/XMLSchema#float'))) \n",
      "\n",
      "(rdflib.term.URIRef('http://www.semanticweb.org/toshıba/ontologies/2020/0/nba_ontology#AssistPercentage'), rdflib.term.Literal('1.4', datatype=rdflib.term.URIRef('http://www.w3.org/2001/XMLSchema#float'))) \n",
      "\n",
      "(rdflib.term.URIRef('http://www.semanticweb.org/toshıba/ontologies/2020/0/nba_ontology#JerseyNumber'), rdflib.term.Literal('7', datatype=rdflib.term.URIRef('http://www.w3.org/2001/XMLSchema#nonNegativeInteger'))) \n",
      "\n",
      "(rdflib.term.URIRef('http://www.w3.org/1999/02/22-rdf-syntax-ns#type'), rdflib.term.URIRef('http://www.semanticweb.org/toshıba/ontologies/2020/0/nba_ontology#ActivePlayer')) \n",
      "\n",
      "(rdflib.term.URIRef('http://www.semanticweb.org/toshıba/ontologies/2020/0/nba_ontology#Height'), rdflib.term.Literal('198', datatype=rdflib.term.URIRef('http://www.w3.org/2001/XMLSchema#nonNegativeInteger'))) \n",
      "\n",
      "(rdflib.term.URIRef('http://www.semanticweb.org/toshıba/ontologies/2020/0/nba_ontology#Position'), rdflib.term.Literal('Small Forward', datatype=rdflib.term.URIRef('http://www.w3.org/2001/XMLSchema#string'))) \n",
      "\n",
      "(rdflib.term.URIRef('http://www.semanticweb.org/toshıba/ontologies/2020/0/nba_ontology#ThreePointsPercentage'), rdflib.term.Literal('37.2', datatype=rdflib.term.URIRef('http://www.w3.org/2001/XMLSchema#float'))) \n",
      "\n",
      "(rdflib.term.URIRef('http://www.semanticweb.org/toshıba/ontologies/2020/0/nba_ontology#TurnoverPercentage'), rdflib.term.Literal('1.4', datatype=rdflib.term.URIRef('http://www.w3.org/2001/XMLSchema#float'))) \n",
      "\n",
      "(rdflib.term.URIRef('http://www.semanticweb.org/toshıba/ontologies/2020/0/nba_ontology#playsFor'), rdflib.term.URIRef('http://www.semanticweb.org/toshıba/ontologies/2020/0/nba_ontology#BostonCeltics')) \n",
      "\n",
      "(rdflib.term.URIRef('http://www.semanticweb.org/toshıba/ontologies/2020/0/nba_ontology#DraftedBy'), rdflib.term.Literal('Boston Celtics', datatype=rdflib.term.URIRef('http://www.w3.org/2001/XMLSchema#string'))) \n",
      "\n",
      "(rdflib.term.URIRef('http://www.semanticweb.org/toshıba/ontologies/2020/0/nba_ontology#Debut'), rdflib.term.Literal('2016-10-26T00:00:00', datatype=rdflib.term.URIRef('http://www.w3.org/2001/XMLSchema#dateTime'))) \n",
      "\n",
      "(rdflib.term.URIRef('http://www.semanticweb.org/toshıba/ontologies/2020/0/nba_ontology#PlayoffAppearances'), rdflib.term.Literal('3', datatype=rdflib.term.URIRef('http://www.w3.org/2001/XMLSchema#nonNegativeInteger'))) \n",
      "\n",
      "(rdflib.term.URIRef('http://www.semanticweb.org/toshıba/ontologies/2020/0/nba_ontology#Weight'), rdflib.term.Literal('101', datatype=rdflib.term.URIRef('http://www.w3.org/2001/XMLSchema#nonNegativeInteger'))) \n",
      "\n",
      "(rdflib.term.URIRef('http://www.semanticweb.org/toshıba/ontologies/2020/0/nba_ontology#Born'), rdflib.term.Literal('1996-10-24T00:00:00', datatype=rdflib.term.URIRef('http://www.w3.org/2001/XMLSchema#dateTime'))) \n",
      "\n",
      "(rdflib.term.URIRef('http://www.semanticweb.org/toshıba/ontologies/2020/0/nba_ontology#FieldGoalPercentage'), rdflib.term.Literal('47.2', datatype=rdflib.term.URIRef('http://www.w3.org/2001/XMLSchema#float'))) \n",
      "\n",
      "(rdflib.term.URIRef('http://www.w3.org/1999/02/22-rdf-syntax-ns#type'), rdflib.term.URIRef('http://www.semanticweb.org/toshıba/ontologies/2020/0/nba_ontology#Player')) \n",
      "\n",
      "(rdflib.term.URIRef('http://www.semanticweb.org/toshıba/ontologies/2020/0/nba_ontology#RebaundPercentage'), rdflib.term.Literal('4.3', datatype=rdflib.term.URIRef('http://www.w3.org/2001/XMLSchema#float'))) \n",
      "\n",
      "(rdflib.term.URIRef('http://www.semanticweb.org/toshıba/ontologies/2020/0/nba_ontology#BlockPercentage'), rdflib.term.Literal('0.3', datatype=rdflib.term.URIRef('http://www.w3.org/2001/XMLSchema#float'))) \n",
      "\n",
      "(rdflib.term.URIRef('http://www.semanticweb.org/toshıba/ontologies/2020/0/nba_ontology#Championships'), rdflib.term.Literal('0', datatype=rdflib.term.URIRef('http://www.w3.org/2001/XMLSchema#nonNegativeInteger'))) \n",
      "\n",
      "(rdflib.term.URIRef('http://www.semanticweb.org/toshıba/ontologies/2020/0/nba_ontology#PointPercentage'), rdflib.term.Literal('12.3', datatype=rdflib.term.URIRef('http://www.w3.org/2001/XMLSchema#float'))) \n",
      "\n",
      "(rdflib.term.URIRef('http://www.w3.org/1999/02/22-rdf-syntax-ns#type'), rdflib.term.URIRef('http://www.semanticweb.org/toshıba/ontologies/2020/0/nba_ontology#Person')) \n",
      "\n",
      "(rdflib.term.URIRef('http://www.w3.org/1999/02/22-rdf-syntax-ns#type'), rdflib.term.URIRef('http://www.w3.org/2002/07/owl#NamedIndividual')) \n",
      "\n",
      "(rdflib.term.URIRef('http://www.semanticweb.org/toshıba/ontologies/2020/0/nba_ontology#PlayerPlayoffAppearances'), rdflib.term.Literal('3', datatype=rdflib.term.URIRef('http://www.w3.org/2001/XMLSchema#nonNegativeInteger'))) \n",
      "\n"
     ]
    }
   ],
   "source": [
    "query = g.query(\n",
    "\"\"\"\n",
    "SELECT ?p ?o\n",
    "{ \n",
    "  <http://www.semanticweb.org/toshıba/ontologies/2020/0/nba_ontology#JaylenBrown> ?p ?o\n",
    "}\n",
    "\"\"\")\n",
    "for resource in query:\n",
    "    print(resource, '\\n')"
   ]
  },
  {
   "cell_type": "code",
   "execution_count": 3,
   "metadata": {},
   "outputs": [
    {
     "name": "stdout",
     "output_type": "stream",
     "text": [
      "(rdflib.term.URIRef('http://www.w3.org/2003/11/swrl#AtomList'),)\n",
      "(rdflib.term.URIRef('http://www.w3.org/2002/07/owl#NamedIndividual'),)\n",
      "(rdflib.term.URIRef('http://www.w3.org/2003/11/swrl#IndividualPropertyAtom'),)\n",
      "(rdflib.term.BNode('Nfe82518eb4d046b5936a3318225adef7'),)\n",
      "(rdflib.term.URIRef('http://www.semanticweb.org/toshıba/ontologies/2020/0/nba_ontology#Team'),)\n",
      "(rdflib.term.URIRef('http://www.semanticweb.org/toshıba/ontologies/2020/0/nba_ontology#Coach'),)\n",
      "(rdflib.term.URIRef('http://www.w3.org/2003/11/swrl#ClassAtom'),)\n",
      "(rdflib.term.URIRef('http://www.w3.org/2002/07/owl#ObjectProperty'),)\n",
      "(rdflib.term.URIRef('http://www.semanticweb.org/toshıba/ontologies/2020/0/nba_ontology#Conference'),)\n",
      "(rdflib.term.URIRef('http://www.w3.org/2002/07/owl#Restriction'),)\n",
      "(rdflib.term.URIRef('http://www.w3.org/2002/07/owl#AllDisjointProperties'),)\n",
      "(rdflib.term.URIRef('http://www.w3.org/2002/07/owl#DatatypeProperty'),)\n",
      "(rdflib.term.URIRef('http://www.w3.org/2003/11/swrl#Imp'),)\n",
      "(rdflib.term.BNode('N36e0173d891547f1b3986a0ddd5ea334'),)\n",
      "(rdflib.term.URIRef('http://www.semanticweb.org/toshıba/ontologies/2020/0/nba_ontology#ActivePlayer'),)\n",
      "(rdflib.term.URIRef('http://www.semanticweb.org/toshıba/ontologies/2020/0/nba_ontology#WesternConference'),)\n",
      "(rdflib.term.URIRef('http://www.w3.org/2002/07/owl#AllDifferent'),)\n",
      "(rdflib.term.URIRef('http://www.w3.org/2002/07/owl#Ontology'),)\n",
      "(rdflib.term.BNode('N0ecb510c57934769900104b5987b175e'),)\n",
      "(rdflib.term.URIRef('http://www.semanticweb.org/toshıba/ontologies/2020/0/nba_ontology#Person'),)\n",
      "(rdflib.term.URIRef('http://www.w3.org/2002/07/owl#Class'),)\n",
      "(rdflib.term.BNode('N439d3d33674a433eab94029f4a6097b2'),)\n",
      "(rdflib.term.URIRef('http://www.semanticweb.org/toshıba/ontologies/2020/0/nba_ontology#Player'),)\n",
      "(rdflib.term.BNode('Nfaa3b65564434bbeb4af54783344e74d'),)\n",
      "(rdflib.term.URIRef('http://www.semanticweb.org/toshıba/ontologies/2020/0/nba_ontology#EasternConference'),)\n",
      "(rdflib.term.URIRef('http://www.w3.org/2003/11/swrl#Variable'),)\n",
      "(rdflib.term.BNode('N844ccc3009a844ccbbfe74b4cedaf111'),)\n",
      "(rdflib.term.URIRef('http://www.semanticweb.org/toshıba/ontologies/2020/0/nba_ontology#RetiredPlayer'),)\n",
      "(rdflib.term.BNode('N929cc39dd558468db09e1021cdc8556d'),)\n",
      "(rdflib.term.URIRef('http://www.w3.org/2002/07/owl#AllDisjointClasses'),)\n",
      "(rdflib.term.BNode('Naedd2488875c420298f4e129c072fed9'),)\n",
      "(rdflib.term.BNode('Nad5fa8e939bb482a91825900f9fab403'),)\n",
      "(rdflib.term.URIRef('http://www.w3.org/2002/07/owl#AnnotationProperty'),)\n",
      "(rdflib.term.BNode('Nb6b37e1b07794187be6c7c774b4f6138'),)\n"
     ]
    }
   ],
   "source": [
    "query = g.query(\n",
    "\"\"\"\n",
    "SELECT DISTINCT ?type\n",
    "WHERE {\n",
    "  ?s a ?type.\n",
    "}\n",
    "\"\"\")\n",
    "for resource in query:\n",
    "    print(resource)"
   ]
  },
  {
   "cell_type": "code",
   "execution_count": 4,
   "metadata": {},
   "outputs": [
    {
     "name": "stdout",
     "output_type": "stream",
     "text": [
      "(rdflib.term.URIRef('http://www.semanticweb.org/toshıba/ontologies/2020/0/nba_ontology#BradStevens'), None)\n",
      "(rdflib.term.URIRef('http://www.semanticweb.org/toshıba/ontologies/2020/0/nba_ontology#ErikSpoelstra'), None)\n"
     ]
    }
   ],
   "source": [
    "query = g.query(\n",
    "\"\"\"\n",
    "\n",
    "PREFIX rdfs: <http://www.w3.org/2000/01/rdf-schema#>\n",
    "PREFIX rdf: <http://www.w3.org/1999/02/22-rdf-syntax-ns#>\n",
    "SELECT ?subject ?label\n",
    "WHERE {\n",
    "    ?subject rdf:type  <http://www.semanticweb.org/toshıba/ontologies/2020/0/nba_ontology#Coach> .\n",
    "\n",
    "} \n",
    "\n",
    "\"\"\")\n",
    "for resource in query:\n",
    "    print(resource)"
   ]
  },
  {
   "cell_type": "code",
   "execution_count": 5,
   "metadata": {},
   "outputs": [
    {
     "name": "stdout",
     "output_type": "stream",
     "text": [
      "(rdflib.term.URIRef('http://www.semanticweb.org/toshıba/ontologies/2020/0/nba_ontology#ChicagoBulls'), rdflib.term.URIRef('http://www.semanticweb.org/toshıba/ontologies/2020/0/nba_ontology#Central')) \n",
      "\n",
      "(rdflib.term.URIRef('http://www.semanticweb.org/toshıba/ontologies/2020/0/nba_ontology#BostonCeltics'), rdflib.term.URIRef('http://www.semanticweb.org/toshıba/ontologies/2020/0/nba_ontology#Atlantic')) \n",
      "\n",
      "(rdflib.term.URIRef('http://www.semanticweb.org/toshıba/ontologies/2020/0/nba_ontology#MiamiHeat'), rdflib.term.URIRef('http://www.semanticweb.org/toshıba/ontologies/2020/0/nba_ontology#Southeast')) \n",
      "\n",
      "(rdflib.term.URIRef('http://www.semanticweb.org/toshıba/ontologies/2020/0/nba_ontology#LosAngelesLakers'), rdflib.term.URIRef('http://www.semanticweb.org/toshıba/ontologies/2020/0/nba_ontology#Pasific')) \n",
      "\n",
      "(rdflib.term.URIRef('http://www.semanticweb.org/toshıba/ontologies/2020/0/nba_ontology#HoustonRockets'), rdflib.term.URIRef('http://www.semanticweb.org/toshıba/ontologies/2020/0/nba_ontology#Southwest')) \n",
      "\n",
      "(rdflib.term.URIRef('http://www.semanticweb.org/toshıba/ontologies/2020/0/nba_ontology#UtahJazz'), rdflib.term.URIRef('http://www.semanticweb.org/toshıba/ontologies/2020/0/nba_ontology#Northwest')) \n",
      "\n"
     ]
    }
   ],
   "source": [
    "query = g.query(\n",
    "\"\"\"\n",
    "\n",
    "PREFIX rdfs: <http://www.w3.org/2000/01/rdf-schema#>\n",
    "PREFIX rdf: <http://www.w3.org/1999/02/22-rdf-syntax-ns#>\n",
    "SELECT ?team ?conference\n",
    "WHERE {\n",
    "    ?team rdf:type  <http://www.semanticweb.org/toshıba/ontologies/2020/0/nba_ontology#Team>;\n",
    "             <http://www.semanticweb.org/toshıba/ontologies/2020/0/nba_ontology#playsAt> ?conference\n",
    "\n",
    "} \n",
    "\n",
    "\"\"\")\n",
    "for resource in query:\n",
    "    print(resource, '\\n')"
   ]
  },
  {
   "cell_type": "code",
   "execution_count": 6,
   "metadata": {},
   "outputs": [
    {
     "name": "stdout",
     "output_type": "stream",
     "text": [
      "(rdflib.term.URIRef('http://www.semanticweb.org/toshıba/ontologies/2020/0/nba_ontology#LeBronJames'), rdflib.term.URIRef('http://www.semanticweb.org/toshıba/ontologies/2020/0/nba_ontology#LosAngelesLakers')) \n",
      "\n",
      "(rdflib.term.URIRef('http://www.semanticweb.org/toshıba/ontologies/2020/0/nba_ontology#JaylenBrown'), rdflib.term.URIRef('http://www.semanticweb.org/toshıba/ontologies/2020/0/nba_ontology#BostonCeltics')) \n",
      "\n"
     ]
    }
   ],
   "source": [
    "query = g.query(\n",
    "\"\"\"\n",
    "\n",
    "PREFIX rdfs: <http://www.w3.org/2000/01/rdf-schema#>\n",
    "PREFIX rdf: <http://www.w3.org/1999/02/22-rdf-syntax-ns#>\n",
    "SELECT ?player ?team\n",
    "WHERE {\n",
    "    ?player rdf:type  <http://www.semanticweb.org/toshıba/ontologies/2020/0/nba_ontology#Player>;\n",
    "            <http://www.semanticweb.org/toshıba/ontologies/2020/0/nba_ontology#playsFor> ?team\n",
    "\n",
    "} \n",
    "\n",
    "\"\"\")\n",
    "for resource in query:\n",
    "    print(resource, '\\n')"
   ]
  },
  {
   "cell_type": "code",
   "execution_count": 7,
   "metadata": {},
   "outputs": [
    {
     "name": "stdout",
     "output_type": "stream",
     "text": [
      "(rdflib.term.URIRef('http://www.semanticweb.org/toshıba/ontologies/2020/0/nba_ontology#BradStevens'), rdflib.term.URIRef('http://www.semanticweb.org/toshıba/ontologies/2020/0/nba_ontology#BostonCeltics'))\n",
      "(rdflib.term.URIRef('http://www.semanticweb.org/toshıba/ontologies/2020/0/nba_ontology#ErikSpoelstra'), rdflib.term.URIRef('http://www.semanticweb.org/toshıba/ontologies/2020/0/nba_ontology#MiamiHeat'))\n"
     ]
    }
   ],
   "source": [
    "query = g.query(\n",
    "\"\"\"\n",
    "\n",
    "PREFIX rdfs: <http://www.w3.org/2000/01/rdf-schema#>\n",
    "PREFIX rdf: <http://www.w3.org/1999/02/22-rdf-syntax-ns#>\n",
    "SELECT ?coach ?team\n",
    "WHERE {\n",
    "    ?coach rdf:type  <http://www.semanticweb.org/toshıba/ontologies/2020/0/nba_ontology#Coach>;\n",
    "            <http://www.semanticweb.org/toshıba/ontologies/2020/0/nba_ontology#trains> ?team\n",
    "\n",
    "} \n",
    "\n",
    "\"\"\")\n",
    "for resource in query:\n",
    "    print(resource)"
   ]
  },
  {
   "cell_type": "code",
   "execution_count": 8,
   "metadata": {},
   "outputs": [
    {
     "name": "stdout",
     "output_type": "stream",
     "text": [
      "(rdflib.term.URIRef('http://www.semanticweb.org/toshıba/ontologies/2020/0/nba_ontology#LeBronJames'), rdflib.term.Literal('0.8', datatype=rdflib.term.URIRef('http://www.w3.org/2001/XMLSchema#float')))\n"
     ]
    }
   ],
   "source": [
    "query = g.query(\n",
    "\"\"\"\n",
    "\n",
    "PREFIX rdfs: <http://www.w3.org/2000/01/rdf-schema#>\n",
    "PREFIX rdf: <http://www.w3.org/1999/02/22-rdf-syntax-ns#>\n",
    "SELECT ?player ?block\n",
    "WHERE {\n",
    "    ?player rdf:type  <http://www.semanticweb.org/toshıba/ontologies/2020/0/nba_ontology#Player>;\n",
    "            <http://www.semanticweb.org/toshıba/ontologies/2020/0/nba_ontology#BlockPercentage> ?block\n",
    "\n",
    "} \n",
    "ORDER BY DESC(?block)\n",
    "LIMIT 1\n",
    "\"\"\")\n",
    "\n",
    "for resource in query:\n",
    "    print(resource)"
   ]
  },
  {
   "cell_type": "code",
   "execution_count": null,
   "metadata": {},
   "outputs": [],
   "source": []
  }
 ],
 "metadata": {
  "kernelspec": {
   "display_name": "Python 3",
   "language": "python",
   "name": "python3"
  },
  "language_info": {
   "codemirror_mode": {
    "name": "ipython",
    "version": 3
   },
   "file_extension": ".py",
   "mimetype": "text/x-python",
   "name": "python",
   "nbconvert_exporter": "python",
   "pygments_lexer": "ipython3",
   "version": "3.6.8"
  }
 },
 "nbformat": 4,
 "nbformat_minor": 2
}
